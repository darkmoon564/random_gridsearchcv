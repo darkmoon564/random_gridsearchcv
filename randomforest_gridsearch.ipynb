{
 "cells": [
  {
   "cell_type": "code",
   "execution_count": 1,
   "id": "94e23471",
   "metadata": {
    "_cell_guid": "b1076dfc-b9ad-4769-8c92-a6c4dae69d19",
    "_uuid": "8f2839f25d086af736a60e9eeb907d3b93b6e0e5",
    "execution": {
     "iopub.execute_input": "2025-05-10T20:51:10.292686Z",
     "iopub.status.busy": "2025-05-10T20:51:10.291889Z",
     "iopub.status.idle": "2025-05-10T20:51:12.316066Z",
     "shell.execute_reply": "2025-05-10T20:51:12.314772Z"
    },
    "papermill": {
     "duration": 2.031503,
     "end_time": "2025-05-10T20:51:12.317798",
     "exception": false,
     "start_time": "2025-05-10T20:51:10.286295",
     "status": "completed"
    },
    "tags": []
   },
   "outputs": [
    {
     "name": "stdout",
     "output_type": "stream",
     "text": [
      "/kaggle/input/loan-prediction-problem-dataset/test_Y3wMUE5_7gLdaTN.csv\n",
      "/kaggle/input/loan-prediction-problem-dataset/train_u6lujuX_CVtuZ9i.csv\n"
     ]
    }
   ],
   "source": [
    "# This Python 3 environment comes with many helpful analytics libraries installed\n",
    "# It is defined by the kaggle/python Docker image: https://github.com/kaggle/docker-python\n",
    "# For example, here's several helpful packages to load\n",
    "\n",
    "import numpy as np # linear algebra\n",
    "import pandas as pd # data processing, CSV file I/O (e.g. pd.read_csv)\n",
    "\n",
    "# Input data files are available in the read-only \"../input/\" directory\n",
    "# For example, running this (by clicking run or pressing Shift+Enter) will list all files under the input directory\n",
    "\n",
    "import os\n",
    "for dirname, _, filenames in os.walk('/kaggle/input'):\n",
    "    for filename in filenames:\n",
    "        print(os.path.join(dirname, filename))\n",
    "\n",
    "# You can write up to 20GB to the current directory (/kaggle/working/) that gets preserved as output when you create a version using \"Save & Run All\" \n",
    "# You can also write temporary files to /kaggle/temp/, but they won't be saved outside of the current session"
   ]
  },
  {
   "cell_type": "code",
   "execution_count": 2,
   "id": "46ba3818",
   "metadata": {
    "execution": {
     "iopub.execute_input": "2025-05-10T20:51:12.327297Z",
     "iopub.status.busy": "2025-05-10T20:51:12.326840Z",
     "iopub.status.idle": "2025-05-10T20:51:14.498475Z",
     "shell.execute_reply": "2025-05-10T20:51:14.497524Z"
    },
    "papermill": {
     "duration": 2.178339,
     "end_time": "2025-05-10T20:51:14.500342",
     "exception": false,
     "start_time": "2025-05-10T20:51:12.322003",
     "status": "completed"
    },
    "tags": []
   },
   "outputs": [],
   "source": [
    "from sklearn.model_selection import train_test_split,GridSearchCV\n",
    "from sklearn.impute import SimpleImputer\n",
    "from sklearn.compose import ColumnTransformer\n",
    "from sklearn.preprocessing import OneHotEncoder, StandardScaler\n",
    "from sklearn.ensemble import RandomForestClassifier\n",
    "from sklearn.pipeline import Pipeline\n",
    "from sklearn.metrics import accuracy_score, classification_report\n",
    "import warnings\n",
    "warnings.filterwarnings(\"ignore\")"
   ]
  },
  {
   "cell_type": "code",
   "execution_count": 3,
   "id": "92639e3a",
   "metadata": {
    "execution": {
     "iopub.execute_input": "2025-05-10T20:51:14.509813Z",
     "iopub.status.busy": "2025-05-10T20:51:14.509359Z",
     "iopub.status.idle": "2025-05-10T20:51:14.542863Z",
     "shell.execute_reply": "2025-05-10T20:51:14.541956Z"
    },
    "papermill": {
     "duration": 0.040572,
     "end_time": "2025-05-10T20:51:14.544910",
     "exception": false,
     "start_time": "2025-05-10T20:51:14.504338",
     "status": "completed"
    },
    "tags": []
   },
   "outputs": [],
   "source": [
    "df=pd.read_csv(\"/kaggle/input/loan-prediction-problem-dataset/train_u6lujuX_CVtuZ9i.csv\")\n",
    "df = df.dropna(subset=['Loan_Status'])\n"
   ]
  },
  {
   "cell_type": "code",
   "execution_count": 4,
   "id": "726a7266",
   "metadata": {
    "execution": {
     "iopub.execute_input": "2025-05-10T20:51:14.553990Z",
     "iopub.status.busy": "2025-05-10T20:51:14.553681Z",
     "iopub.status.idle": "2025-05-10T20:51:14.569228Z",
     "shell.execute_reply": "2025-05-10T20:51:14.567907Z"
    },
    "papermill": {
     "duration": 0.022066,
     "end_time": "2025-05-10T20:51:14.570945",
     "exception": false,
     "start_time": "2025-05-10T20:51:14.548879",
     "status": "completed"
    },
    "tags": []
   },
   "outputs": [],
   "source": [
    "# Clean Loan_Status before mapping\n",
    "df['Loan_Status'] = df['Loan_Status'].astype(str).str.strip().str.upper()\n",
    "\n",
    "# Only keep rows where Loan_Status is valid\n",
    "df = df[df['Loan_Status'].isin(['Y', 'N'])].copy()\n",
    "\n",
    "# Now map safely\n",
    "y = df['Loan_Status'].map({'N': 0, 'Y': 1})\n",
    "\n",
    "# Confirm no NaNs remain\n",
    "assert y.isna().sum() == 0, \"Still contains NaNs in y!\"\n"
   ]
  },
  {
   "cell_type": "code",
   "execution_count": 5,
   "id": "304ed95d",
   "metadata": {
    "execution": {
     "iopub.execute_input": "2025-05-10T20:51:14.580475Z",
     "iopub.status.busy": "2025-05-10T20:51:14.580150Z",
     "iopub.status.idle": "2025-05-10T20:51:14.595359Z",
     "shell.execute_reply": "2025-05-10T20:51:14.594335Z"
    },
    "papermill": {
     "duration": 0.022054,
     "end_time": "2025-05-10T20:51:14.597347",
     "exception": false,
     "start_time": "2025-05-10T20:51:14.575293",
     "status": "completed"
    },
    "tags": []
   },
   "outputs": [],
   "source": [
    "df['TotalIncome'] = df['ApplicantIncome'] + df['CoapplicantIncome']\n",
    "df['LoanAmount'] = df['LoanAmount'].fillna(df['LoanAmount'].median())\n",
    "df = df[df['LoanAmount'] > 0]\n",
    "\n",
    "df['LoanAmountLog'] = np.log1p(df['LoanAmount'])\n",
    "df['DebtRatio'] = df['LoanAmount'] / (df['TotalIncome'] + 1)"
   ]
  },
  {
   "cell_type": "code",
   "execution_count": 6,
   "id": "f54778d1",
   "metadata": {
    "execution": {
     "iopub.execute_input": "2025-05-10T20:51:14.606643Z",
     "iopub.status.busy": "2025-05-10T20:51:14.606299Z",
     "iopub.status.idle": "2025-05-10T20:51:14.615095Z",
     "shell.execute_reply": "2025-05-10T20:51:14.613813Z"
    },
    "papermill": {
     "duration": 0.015527,
     "end_time": "2025-05-10T20:51:14.616844",
     "exception": false,
     "start_time": "2025-05-10T20:51:14.601317",
     "status": "completed"
    },
    "tags": []
   },
   "outputs": [],
   "source": [
    "df.drop(['Loan_ID', 'ApplicantIncome', 'CoapplicantIncome', 'LoanAmount'], axis=1, inplace=True)\n"
   ]
  },
  {
   "cell_type": "code",
   "execution_count": 7,
   "id": "c85a9365",
   "metadata": {
    "execution": {
     "iopub.execute_input": "2025-05-10T20:51:14.626115Z",
     "iopub.status.busy": "2025-05-10T20:51:14.625787Z",
     "iopub.status.idle": "2025-05-10T20:51:14.634169Z",
     "shell.execute_reply": "2025-05-10T20:51:14.633135Z"
    },
    "papermill": {
     "duration": 0.015439,
     "end_time": "2025-05-10T20:51:14.636124",
     "exception": false,
     "start_time": "2025-05-10T20:51:14.620685",
     "status": "completed"
    },
    "tags": []
   },
   "outputs": [],
   "source": [
    "X=df.drop('Loan_Status',axis=1)\n",
    "y=df['Loan_Status'].map({'n':0,'y':1})"
   ]
  },
  {
   "cell_type": "code",
   "execution_count": 8,
   "id": "720d7ccd",
   "metadata": {
    "execution": {
     "iopub.execute_input": "2025-05-10T20:51:14.645449Z",
     "iopub.status.busy": "2025-05-10T20:51:14.644950Z",
     "iopub.status.idle": "2025-05-10T20:51:14.650072Z",
     "shell.execute_reply": "2025-05-10T20:51:14.649092Z"
    },
    "papermill": {
     "duration": 0.011634,
     "end_time": "2025-05-10T20:51:14.651740",
     "exception": false,
     "start_time": "2025-05-10T20:51:14.640106",
     "status": "completed"
    },
    "tags": []
   },
   "outputs": [],
   "source": [
    "numeric_features = ['Loan_Amount_Term', 'Credit_History', 'TotalIncome', 'LoanAmountLog', 'DebtRatio']\n",
    "categorical_features = [col for col in X.columns if col not in numeric_features]\n"
   ]
  },
  {
   "cell_type": "code",
   "execution_count": 9,
   "id": "fc1188f8",
   "metadata": {
    "execution": {
     "iopub.execute_input": "2025-05-10T20:51:14.660775Z",
     "iopub.status.busy": "2025-05-10T20:51:14.660369Z",
     "iopub.status.idle": "2025-05-10T20:51:14.666195Z",
     "shell.execute_reply": "2025-05-10T20:51:14.665208Z"
    },
    "papermill": {
     "duration": 0.01227,
     "end_time": "2025-05-10T20:51:14.668022",
     "exception": false,
     "start_time": "2025-05-10T20:51:14.655752",
     "status": "completed"
    },
    "tags": []
   },
   "outputs": [],
   "source": [
    "numeric_pipeline = Pipeline([\n",
    "    ('imputer', SimpleImputer(strategy='mean')),\n",
    "    ('scaler', StandardScaler())\n",
    "])\n",
    "\n",
    "categorical_pipeline = Pipeline([\n",
    "    ('imputer', SimpleImputer(strategy='most_frequent')),\n",
    "    ('encoder', OneHotEncoder(handle_unknown='ignore'))\n",
    "])\n",
    "\n",
    "preprocessor = ColumnTransformer([\n",
    "    ('num', numeric_pipeline, numeric_features),\n",
    "    ('cat', categorical_pipeline, categorical_features)\n",
    "])"
   ]
  },
  {
   "cell_type": "code",
   "execution_count": 10,
   "id": "f7a43c8b",
   "metadata": {
    "execution": {
     "iopub.execute_input": "2025-05-10T20:51:14.677014Z",
     "iopub.status.busy": "2025-05-10T20:51:14.676646Z",
     "iopub.status.idle": "2025-05-10T20:51:14.681770Z",
     "shell.execute_reply": "2025-05-10T20:51:14.680717Z"
    },
    "papermill": {
     "duration": 0.011665,
     "end_time": "2025-05-10T20:51:14.683511",
     "exception": false,
     "start_time": "2025-05-10T20:51:14.671846",
     "status": "completed"
    },
    "tags": []
   },
   "outputs": [],
   "source": [
    "rf_pipeline=Pipeline([\n",
    "    ('preprocessing',preprocessor),\n",
    "    ('classifier',RandomForestClassifier(random_state=43))\n",
    "])"
   ]
  },
  {
   "cell_type": "code",
   "execution_count": 11,
   "id": "5ebe492a",
   "metadata": {
    "execution": {
     "iopub.execute_input": "2025-05-10T20:51:14.692329Z",
     "iopub.status.busy": "2025-05-10T20:51:14.691952Z",
     "iopub.status.idle": "2025-05-10T20:51:14.697290Z",
     "shell.execute_reply": "2025-05-10T20:51:14.696231Z"
    },
    "papermill": {
     "duration": 0.011609,
     "end_time": "2025-05-10T20:51:14.698885",
     "exception": false,
     "start_time": "2025-05-10T20:51:14.687276",
     "status": "completed"
    },
    "tags": []
   },
   "outputs": [],
   "source": [
    "param_grid = {\n",
    "    'classifier__n_estimators': [50, 100, 150],\n",
    "    'classifier__max_depth': [4, 6, 8],\n",
    "    'classifier__min_samples_split': [2, 5, 10],\n",
    "    'classifier__min_samples_leaf': [1, 2, 4]\n",
    "}"
   ]
  },
  {
   "cell_type": "code",
   "execution_count": 12,
   "id": "1e1b6b12",
   "metadata": {
    "execution": {
     "iopub.execute_input": "2025-05-10T20:51:14.707848Z",
     "iopub.status.busy": "2025-05-10T20:51:14.707482Z",
     "iopub.status.idle": "2025-05-10T20:51:14.725532Z",
     "shell.execute_reply": "2025-05-10T20:51:14.724533Z"
    },
    "papermill": {
     "duration": 0.024325,
     "end_time": "2025-05-10T20:51:14.727031",
     "exception": false,
     "start_time": "2025-05-10T20:51:14.702706",
     "status": "completed"
    },
    "tags": []
   },
   "outputs": [
    {
     "name": "stdout",
     "output_type": "stream",
     "text": [
      "✅ Clean target ready. Unique values: [1 0]\n"
     ]
    }
   ],
   "source": [
    "# Clean and map target\n",
    "df['Loan_Status'] = df['Loan_Status'].astype(str).str.strip().str.upper()\n",
    "df = df[df['Loan_Status'].isin(['Y', 'N'])].copy()\n",
    "df.reset_index(drop=True, inplace=True)\n",
    "\n",
    "# Convert to 0/1\n",
    "df['Loan_Status'] = df['Loan_Status'].map({'N': 0, 'Y': 1})\n",
    "\n",
    "# Drop any NaNs again (precaution)\n",
    "df = df.dropna(subset=['Loan_Status'])\n",
    "\n",
    "# Split\n",
    "X = df.drop('Loan_Status', axis=1)\n",
    "y = df['Loan_Status']\n",
    "\n",
    "print(\"✅ Clean target ready. Unique values:\", y.unique())\n"
   ]
  },
  {
   "cell_type": "code",
   "execution_count": 13,
   "id": "6625cbec",
   "metadata": {
    "execution": {
     "iopub.execute_input": "2025-05-10T20:51:14.735771Z",
     "iopub.status.busy": "2025-05-10T20:51:14.735458Z",
     "iopub.status.idle": "2025-05-10T20:51:14.742680Z",
     "shell.execute_reply": "2025-05-10T20:51:14.741822Z"
    },
    "papermill": {
     "duration": 0.013276,
     "end_time": "2025-05-10T20:51:14.744169",
     "exception": false,
     "start_time": "2025-05-10T20:51:14.730893",
     "status": "completed"
    },
    "tags": []
   },
   "outputs": [],
   "source": [
    "X_train, X_test, y_train, y_test = train_test_split(X, y, test_size=0.2, random_state=42)\n"
   ]
  },
  {
   "cell_type": "code",
   "execution_count": 14,
   "id": "fd028c14",
   "metadata": {
    "execution": {
     "iopub.execute_input": "2025-05-10T20:51:14.753335Z",
     "iopub.status.busy": "2025-05-10T20:51:14.752614Z",
     "iopub.status.idle": "2025-05-10T20:51:14.757822Z",
     "shell.execute_reply": "2025-05-10T20:51:14.756905Z"
    },
    "papermill": {
     "duration": 0.011328,
     "end_time": "2025-05-10T20:51:14.759400",
     "exception": false,
     "start_time": "2025-05-10T20:51:14.748072",
     "status": "completed"
    },
    "tags": []
   },
   "outputs": [],
   "source": [
    "grid_search = GridSearchCV(\n",
    "    estimator=rf_pipeline,\n",
    "    param_grid=param_grid,\n",
    "    cv=5,\n",
    "    scoring='accuracy',\n",
    "    n_jobs=-1,\n",
    "    verbose=1\n",
    ")\n",
    "\n"
   ]
  },
  {
   "cell_type": "code",
   "execution_count": 15,
   "id": "44de9fbb",
   "metadata": {
    "execution": {
     "iopub.execute_input": "2025-05-10T20:51:14.767955Z",
     "iopub.status.busy": "2025-05-10T20:51:14.767679Z",
     "iopub.status.idle": "2025-05-10T20:51:50.262161Z",
     "shell.execute_reply": "2025-05-10T20:51:50.260924Z"
    },
    "papermill": {
     "duration": 35.504608,
     "end_time": "2025-05-10T20:51:50.267796",
     "exception": false,
     "start_time": "2025-05-10T20:51:14.763188",
     "status": "completed"
    },
    "tags": []
   },
   "outputs": [
    {
     "name": "stdout",
     "output_type": "stream",
     "text": [
      "Fitting 5 folds for each of 81 candidates, totalling 405 fits\n"
     ]
    },
    {
     "data": {
      "text/html": [
       "<style>#sk-container-id-1 {color: black;background-color: white;}#sk-container-id-1 pre{padding: 0;}#sk-container-id-1 div.sk-toggleable {background-color: white;}#sk-container-id-1 label.sk-toggleable__label {cursor: pointer;display: block;width: 100%;margin-bottom: 0;padding: 0.3em;box-sizing: border-box;text-align: center;}#sk-container-id-1 label.sk-toggleable__label-arrow:before {content: \"▸\";float: left;margin-right: 0.25em;color: #696969;}#sk-container-id-1 label.sk-toggleable__label-arrow:hover:before {color: black;}#sk-container-id-1 div.sk-estimator:hover label.sk-toggleable__label-arrow:before {color: black;}#sk-container-id-1 div.sk-toggleable__content {max-height: 0;max-width: 0;overflow: hidden;text-align: left;background-color: #f0f8ff;}#sk-container-id-1 div.sk-toggleable__content pre {margin: 0.2em;color: black;border-radius: 0.25em;background-color: #f0f8ff;}#sk-container-id-1 input.sk-toggleable__control:checked~div.sk-toggleable__content {max-height: 200px;max-width: 100%;overflow: auto;}#sk-container-id-1 input.sk-toggleable__control:checked~label.sk-toggleable__label-arrow:before {content: \"▾\";}#sk-container-id-1 div.sk-estimator input.sk-toggleable__control:checked~label.sk-toggleable__label {background-color: #d4ebff;}#sk-container-id-1 div.sk-label input.sk-toggleable__control:checked~label.sk-toggleable__label {background-color: #d4ebff;}#sk-container-id-1 input.sk-hidden--visually {border: 0;clip: rect(1px 1px 1px 1px);clip: rect(1px, 1px, 1px, 1px);height: 1px;margin: -1px;overflow: hidden;padding: 0;position: absolute;width: 1px;}#sk-container-id-1 div.sk-estimator {font-family: monospace;background-color: #f0f8ff;border: 1px dotted black;border-radius: 0.25em;box-sizing: border-box;margin-bottom: 0.5em;}#sk-container-id-1 div.sk-estimator:hover {background-color: #d4ebff;}#sk-container-id-1 div.sk-parallel-item::after {content: \"\";width: 100%;border-bottom: 1px solid gray;flex-grow: 1;}#sk-container-id-1 div.sk-label:hover label.sk-toggleable__label {background-color: #d4ebff;}#sk-container-id-1 div.sk-serial::before {content: \"\";position: absolute;border-left: 1px solid gray;box-sizing: border-box;top: 0;bottom: 0;left: 50%;z-index: 0;}#sk-container-id-1 div.sk-serial {display: flex;flex-direction: column;align-items: center;background-color: white;padding-right: 0.2em;padding-left: 0.2em;position: relative;}#sk-container-id-1 div.sk-item {position: relative;z-index: 1;}#sk-container-id-1 div.sk-parallel {display: flex;align-items: stretch;justify-content: center;background-color: white;position: relative;}#sk-container-id-1 div.sk-item::before, #sk-container-id-1 div.sk-parallel-item::before {content: \"\";position: absolute;border-left: 1px solid gray;box-sizing: border-box;top: 0;bottom: 0;left: 50%;z-index: -1;}#sk-container-id-1 div.sk-parallel-item {display: flex;flex-direction: column;z-index: 1;position: relative;background-color: white;}#sk-container-id-1 div.sk-parallel-item:first-child::after {align-self: flex-end;width: 50%;}#sk-container-id-1 div.sk-parallel-item:last-child::after {align-self: flex-start;width: 50%;}#sk-container-id-1 div.sk-parallel-item:only-child::after {width: 0;}#sk-container-id-1 div.sk-dashed-wrapped {border: 1px dashed gray;margin: 0 0.4em 0.5em 0.4em;box-sizing: border-box;padding-bottom: 0.4em;background-color: white;}#sk-container-id-1 div.sk-label label {font-family: monospace;font-weight: bold;display: inline-block;line-height: 1.2em;}#sk-container-id-1 div.sk-label-container {text-align: center;}#sk-container-id-1 div.sk-container {/* jupyter's `normalize.less` sets `[hidden] { display: none; }` but bootstrap.min.css set `[hidden] { display: none !important; }` so we also need the `!important` here to be able to override the default hidden behavior on the sphinx rendered scikit-learn.org. See: https://github.com/scikit-learn/scikit-learn/issues/21755 */display: inline-block !important;position: relative;}#sk-container-id-1 div.sk-text-repr-fallback {display: none;}</style><div id=\"sk-container-id-1\" class=\"sk-top-container\"><div class=\"sk-text-repr-fallback\"><pre>GridSearchCV(cv=5,\n",
       "             estimator=Pipeline(steps=[(&#x27;preprocessing&#x27;,\n",
       "                                        ColumnTransformer(transformers=[(&#x27;num&#x27;,\n",
       "                                                                         Pipeline(steps=[(&#x27;imputer&#x27;,\n",
       "                                                                                          SimpleImputer()),\n",
       "                                                                                         (&#x27;scaler&#x27;,\n",
       "                                                                                          StandardScaler())]),\n",
       "                                                                         [&#x27;Loan_Amount_Term&#x27;,\n",
       "                                                                          &#x27;Credit_History&#x27;,\n",
       "                                                                          &#x27;TotalIncome&#x27;,\n",
       "                                                                          &#x27;LoanAmountLog&#x27;,\n",
       "                                                                          &#x27;DebtRatio&#x27;]),\n",
       "                                                                        (&#x27;cat&#x27;,\n",
       "                                                                         Pipeline(steps=[(&#x27;imputer&#x27;,\n",
       "                                                                                          SimpleImputer(strategy=&#x27;most_frequent&#x27;)),\n",
       "                                                                                         (&#x27;encoder&#x27;,\n",
       "                                                                                          OneHotEnc...e&#x27;))]),\n",
       "                                                                         [&#x27;Gender&#x27;,\n",
       "                                                                          &#x27;Married&#x27;,\n",
       "                                                                          &#x27;Dependents&#x27;,\n",
       "                                                                          &#x27;Education&#x27;,\n",
       "                                                                          &#x27;Self_Employed&#x27;,\n",
       "                                                                          &#x27;Property_Area&#x27;])])),\n",
       "                                       (&#x27;classifier&#x27;,\n",
       "                                        RandomForestClassifier(random_state=43))]),\n",
       "             n_jobs=-1,\n",
       "             param_grid={&#x27;classifier__max_depth&#x27;: [4, 6, 8],\n",
       "                         &#x27;classifier__min_samples_leaf&#x27;: [1, 2, 4],\n",
       "                         &#x27;classifier__min_samples_split&#x27;: [2, 5, 10],\n",
       "                         &#x27;classifier__n_estimators&#x27;: [50, 100, 150]},\n",
       "             scoring=&#x27;accuracy&#x27;, verbose=1)</pre><b>In a Jupyter environment, please rerun this cell to show the HTML representation or trust the notebook. <br />On GitHub, the HTML representation is unable to render, please try loading this page with nbviewer.org.</b></div><div class=\"sk-container\" hidden><div class=\"sk-item sk-dashed-wrapped\"><div class=\"sk-label-container\"><div class=\"sk-label sk-toggleable\"><input class=\"sk-toggleable__control sk-hidden--visually\" id=\"sk-estimator-id-1\" type=\"checkbox\" ><label for=\"sk-estimator-id-1\" class=\"sk-toggleable__label sk-toggleable__label-arrow\">GridSearchCV</label><div class=\"sk-toggleable__content\"><pre>GridSearchCV(cv=5,\n",
       "             estimator=Pipeline(steps=[(&#x27;preprocessing&#x27;,\n",
       "                                        ColumnTransformer(transformers=[(&#x27;num&#x27;,\n",
       "                                                                         Pipeline(steps=[(&#x27;imputer&#x27;,\n",
       "                                                                                          SimpleImputer()),\n",
       "                                                                                         (&#x27;scaler&#x27;,\n",
       "                                                                                          StandardScaler())]),\n",
       "                                                                         [&#x27;Loan_Amount_Term&#x27;,\n",
       "                                                                          &#x27;Credit_History&#x27;,\n",
       "                                                                          &#x27;TotalIncome&#x27;,\n",
       "                                                                          &#x27;LoanAmountLog&#x27;,\n",
       "                                                                          &#x27;DebtRatio&#x27;]),\n",
       "                                                                        (&#x27;cat&#x27;,\n",
       "                                                                         Pipeline(steps=[(&#x27;imputer&#x27;,\n",
       "                                                                                          SimpleImputer(strategy=&#x27;most_frequent&#x27;)),\n",
       "                                                                                         (&#x27;encoder&#x27;,\n",
       "                                                                                          OneHotEnc...e&#x27;))]),\n",
       "                                                                         [&#x27;Gender&#x27;,\n",
       "                                                                          &#x27;Married&#x27;,\n",
       "                                                                          &#x27;Dependents&#x27;,\n",
       "                                                                          &#x27;Education&#x27;,\n",
       "                                                                          &#x27;Self_Employed&#x27;,\n",
       "                                                                          &#x27;Property_Area&#x27;])])),\n",
       "                                       (&#x27;classifier&#x27;,\n",
       "                                        RandomForestClassifier(random_state=43))]),\n",
       "             n_jobs=-1,\n",
       "             param_grid={&#x27;classifier__max_depth&#x27;: [4, 6, 8],\n",
       "                         &#x27;classifier__min_samples_leaf&#x27;: [1, 2, 4],\n",
       "                         &#x27;classifier__min_samples_split&#x27;: [2, 5, 10],\n",
       "                         &#x27;classifier__n_estimators&#x27;: [50, 100, 150]},\n",
       "             scoring=&#x27;accuracy&#x27;, verbose=1)</pre></div></div></div><div class=\"sk-parallel\"><div class=\"sk-parallel-item\"><div class=\"sk-item\"><div class=\"sk-label-container\"><div class=\"sk-label sk-toggleable\"><input class=\"sk-toggleable__control sk-hidden--visually\" id=\"sk-estimator-id-2\" type=\"checkbox\" ><label for=\"sk-estimator-id-2\" class=\"sk-toggleable__label sk-toggleable__label-arrow\">estimator: Pipeline</label><div class=\"sk-toggleable__content\"><pre>Pipeline(steps=[(&#x27;preprocessing&#x27;,\n",
       "                 ColumnTransformer(transformers=[(&#x27;num&#x27;,\n",
       "                                                  Pipeline(steps=[(&#x27;imputer&#x27;,\n",
       "                                                                   SimpleImputer()),\n",
       "                                                                  (&#x27;scaler&#x27;,\n",
       "                                                                   StandardScaler())]),\n",
       "                                                  [&#x27;Loan_Amount_Term&#x27;,\n",
       "                                                   &#x27;Credit_History&#x27;,\n",
       "                                                   &#x27;TotalIncome&#x27;,\n",
       "                                                   &#x27;LoanAmountLog&#x27;,\n",
       "                                                   &#x27;DebtRatio&#x27;]),\n",
       "                                                 (&#x27;cat&#x27;,\n",
       "                                                  Pipeline(steps=[(&#x27;imputer&#x27;,\n",
       "                                                                   SimpleImputer(strategy=&#x27;most_frequent&#x27;)),\n",
       "                                                                  (&#x27;encoder&#x27;,\n",
       "                                                                   OneHotEncoder(handle_unknown=&#x27;ignore&#x27;))]),\n",
       "                                                  [&#x27;Gender&#x27;, &#x27;Married&#x27;,\n",
       "                                                   &#x27;Dependents&#x27;, &#x27;Education&#x27;,\n",
       "                                                   &#x27;Self_Employed&#x27;,\n",
       "                                                   &#x27;Property_Area&#x27;])])),\n",
       "                (&#x27;classifier&#x27;, RandomForestClassifier(random_state=43))])</pre></div></div></div><div class=\"sk-serial\"><div class=\"sk-item\"><div class=\"sk-serial\"><div class=\"sk-item sk-dashed-wrapped\"><div class=\"sk-label-container\"><div class=\"sk-label sk-toggleable\"><input class=\"sk-toggleable__control sk-hidden--visually\" id=\"sk-estimator-id-3\" type=\"checkbox\" ><label for=\"sk-estimator-id-3\" class=\"sk-toggleable__label sk-toggleable__label-arrow\">preprocessing: ColumnTransformer</label><div class=\"sk-toggleable__content\"><pre>ColumnTransformer(transformers=[(&#x27;num&#x27;,\n",
       "                                 Pipeline(steps=[(&#x27;imputer&#x27;, SimpleImputer()),\n",
       "                                                 (&#x27;scaler&#x27;, StandardScaler())]),\n",
       "                                 [&#x27;Loan_Amount_Term&#x27;, &#x27;Credit_History&#x27;,\n",
       "                                  &#x27;TotalIncome&#x27;, &#x27;LoanAmountLog&#x27;,\n",
       "                                  &#x27;DebtRatio&#x27;]),\n",
       "                                (&#x27;cat&#x27;,\n",
       "                                 Pipeline(steps=[(&#x27;imputer&#x27;,\n",
       "                                                  SimpleImputer(strategy=&#x27;most_frequent&#x27;)),\n",
       "                                                 (&#x27;encoder&#x27;,\n",
       "                                                  OneHotEncoder(handle_unknown=&#x27;ignore&#x27;))]),\n",
       "                                 [&#x27;Gender&#x27;, &#x27;Married&#x27;, &#x27;Dependents&#x27;,\n",
       "                                  &#x27;Education&#x27;, &#x27;Self_Employed&#x27;,\n",
       "                                  &#x27;Property_Area&#x27;])])</pre></div></div></div><div class=\"sk-parallel\"><div class=\"sk-parallel-item\"><div class=\"sk-item\"><div class=\"sk-label-container\"><div class=\"sk-label sk-toggleable\"><input class=\"sk-toggleable__control sk-hidden--visually\" id=\"sk-estimator-id-4\" type=\"checkbox\" ><label for=\"sk-estimator-id-4\" class=\"sk-toggleable__label sk-toggleable__label-arrow\">num</label><div class=\"sk-toggleable__content\"><pre>[&#x27;Loan_Amount_Term&#x27;, &#x27;Credit_History&#x27;, &#x27;TotalIncome&#x27;, &#x27;LoanAmountLog&#x27;, &#x27;DebtRatio&#x27;]</pre></div></div></div><div class=\"sk-serial\"><div class=\"sk-item\"><div class=\"sk-serial\"><div class=\"sk-item\"><div class=\"sk-estimator sk-toggleable\"><input class=\"sk-toggleable__control sk-hidden--visually\" id=\"sk-estimator-id-5\" type=\"checkbox\" ><label for=\"sk-estimator-id-5\" class=\"sk-toggleable__label sk-toggleable__label-arrow\">SimpleImputer</label><div class=\"sk-toggleable__content\"><pre>SimpleImputer()</pre></div></div></div><div class=\"sk-item\"><div class=\"sk-estimator sk-toggleable\"><input class=\"sk-toggleable__control sk-hidden--visually\" id=\"sk-estimator-id-6\" type=\"checkbox\" ><label for=\"sk-estimator-id-6\" class=\"sk-toggleable__label sk-toggleable__label-arrow\">StandardScaler</label><div class=\"sk-toggleable__content\"><pre>StandardScaler()</pre></div></div></div></div></div></div></div></div><div class=\"sk-parallel-item\"><div class=\"sk-item\"><div class=\"sk-label-container\"><div class=\"sk-label sk-toggleable\"><input class=\"sk-toggleable__control sk-hidden--visually\" id=\"sk-estimator-id-7\" type=\"checkbox\" ><label for=\"sk-estimator-id-7\" class=\"sk-toggleable__label sk-toggleable__label-arrow\">cat</label><div class=\"sk-toggleable__content\"><pre>[&#x27;Gender&#x27;, &#x27;Married&#x27;, &#x27;Dependents&#x27;, &#x27;Education&#x27;, &#x27;Self_Employed&#x27;, &#x27;Property_Area&#x27;]</pre></div></div></div><div class=\"sk-serial\"><div class=\"sk-item\"><div class=\"sk-serial\"><div class=\"sk-item\"><div class=\"sk-estimator sk-toggleable\"><input class=\"sk-toggleable__control sk-hidden--visually\" id=\"sk-estimator-id-8\" type=\"checkbox\" ><label for=\"sk-estimator-id-8\" class=\"sk-toggleable__label sk-toggleable__label-arrow\">SimpleImputer</label><div class=\"sk-toggleable__content\"><pre>SimpleImputer(strategy=&#x27;most_frequent&#x27;)</pre></div></div></div><div class=\"sk-item\"><div class=\"sk-estimator sk-toggleable\"><input class=\"sk-toggleable__control sk-hidden--visually\" id=\"sk-estimator-id-9\" type=\"checkbox\" ><label for=\"sk-estimator-id-9\" class=\"sk-toggleable__label sk-toggleable__label-arrow\">OneHotEncoder</label><div class=\"sk-toggleable__content\"><pre>OneHotEncoder(handle_unknown=&#x27;ignore&#x27;)</pre></div></div></div></div></div></div></div></div></div></div><div class=\"sk-item\"><div class=\"sk-estimator sk-toggleable\"><input class=\"sk-toggleable__control sk-hidden--visually\" id=\"sk-estimator-id-10\" type=\"checkbox\" ><label for=\"sk-estimator-id-10\" class=\"sk-toggleable__label sk-toggleable__label-arrow\">RandomForestClassifier</label><div class=\"sk-toggleable__content\"><pre>RandomForestClassifier(random_state=43)</pre></div></div></div></div></div></div></div></div></div></div></div></div>"
      ],
      "text/plain": [
       "GridSearchCV(cv=5,\n",
       "             estimator=Pipeline(steps=[('preprocessing',\n",
       "                                        ColumnTransformer(transformers=[('num',\n",
       "                                                                         Pipeline(steps=[('imputer',\n",
       "                                                                                          SimpleImputer()),\n",
       "                                                                                         ('scaler',\n",
       "                                                                                          StandardScaler())]),\n",
       "                                                                         ['Loan_Amount_Term',\n",
       "                                                                          'Credit_History',\n",
       "                                                                          'TotalIncome',\n",
       "                                                                          'LoanAmountLog',\n",
       "                                                                          'DebtRatio']),\n",
       "                                                                        ('cat',\n",
       "                                                                         Pipeline(steps=[('imputer',\n",
       "                                                                                          SimpleImputer(strategy='most_frequent')),\n",
       "                                                                                         ('encoder',\n",
       "                                                                                          OneHotEnc...e'))]),\n",
       "                                                                         ['Gender',\n",
       "                                                                          'Married',\n",
       "                                                                          'Dependents',\n",
       "                                                                          'Education',\n",
       "                                                                          'Self_Employed',\n",
       "                                                                          'Property_Area'])])),\n",
       "                                       ('classifier',\n",
       "                                        RandomForestClassifier(random_state=43))]),\n",
       "             n_jobs=-1,\n",
       "             param_grid={'classifier__max_depth': [4, 6, 8],\n",
       "                         'classifier__min_samples_leaf': [1, 2, 4],\n",
       "                         'classifier__min_samples_split': [2, 5, 10],\n",
       "                         'classifier__n_estimators': [50, 100, 150]},\n",
       "             scoring='accuracy', verbose=1)"
      ]
     },
     "execution_count": 15,
     "metadata": {},
     "output_type": "execute_result"
    }
   ],
   "source": [
    "grid_search.fit(X_train, y_train)"
   ]
  },
  {
   "cell_type": "code",
   "execution_count": 16,
   "id": "a9b5e464",
   "metadata": {
    "execution": {
     "iopub.execute_input": "2025-05-10T20:51:50.277510Z",
     "iopub.status.busy": "2025-05-10T20:51:50.277198Z",
     "iopub.status.idle": "2025-05-10T20:51:50.293070Z",
     "shell.execute_reply": "2025-05-10T20:51:50.292133Z"
    },
    "papermill": {
     "duration": 0.023018,
     "end_time": "2025-05-10T20:51:50.294858",
     "exception": false,
     "start_time": "2025-05-10T20:51:50.271840",
     "status": "completed"
    },
    "tags": []
   },
   "outputs": [],
   "source": [
    "best_model = grid_search.best_estimator_\n",
    "y_pred = best_model.predict(X_test)"
   ]
  },
  {
   "cell_type": "code",
   "execution_count": 17,
   "id": "fa4a2c38",
   "metadata": {
    "execution": {
     "iopub.execute_input": "2025-05-10T20:51:50.304528Z",
     "iopub.status.busy": "2025-05-10T20:51:50.304233Z",
     "iopub.status.idle": "2025-05-10T20:52:22.984850Z",
     "shell.execute_reply": "2025-05-10T20:52:22.983874Z"
    },
    "papermill": {
     "duration": 32.692832,
     "end_time": "2025-05-10T20:52:22.992029",
     "exception": false,
     "start_time": "2025-05-10T20:51:50.299197",
     "status": "completed"
    },
    "tags": []
   },
   "outputs": [
    {
     "name": "stdout",
     "output_type": "stream",
     "text": [
      "Fitting 5 folds for each of 81 candidates, totalling 405 fits\n"
     ]
    },
    {
     "data": {
      "text/html": [
       "<style>#sk-container-id-2 {color: black;background-color: white;}#sk-container-id-2 pre{padding: 0;}#sk-container-id-2 div.sk-toggleable {background-color: white;}#sk-container-id-2 label.sk-toggleable__label {cursor: pointer;display: block;width: 100%;margin-bottom: 0;padding: 0.3em;box-sizing: border-box;text-align: center;}#sk-container-id-2 label.sk-toggleable__label-arrow:before {content: \"▸\";float: left;margin-right: 0.25em;color: #696969;}#sk-container-id-2 label.sk-toggleable__label-arrow:hover:before {color: black;}#sk-container-id-2 div.sk-estimator:hover label.sk-toggleable__label-arrow:before {color: black;}#sk-container-id-2 div.sk-toggleable__content {max-height: 0;max-width: 0;overflow: hidden;text-align: left;background-color: #f0f8ff;}#sk-container-id-2 div.sk-toggleable__content pre {margin: 0.2em;color: black;border-radius: 0.25em;background-color: #f0f8ff;}#sk-container-id-2 input.sk-toggleable__control:checked~div.sk-toggleable__content {max-height: 200px;max-width: 100%;overflow: auto;}#sk-container-id-2 input.sk-toggleable__control:checked~label.sk-toggleable__label-arrow:before {content: \"▾\";}#sk-container-id-2 div.sk-estimator input.sk-toggleable__control:checked~label.sk-toggleable__label {background-color: #d4ebff;}#sk-container-id-2 div.sk-label input.sk-toggleable__control:checked~label.sk-toggleable__label {background-color: #d4ebff;}#sk-container-id-2 input.sk-hidden--visually {border: 0;clip: rect(1px 1px 1px 1px);clip: rect(1px, 1px, 1px, 1px);height: 1px;margin: -1px;overflow: hidden;padding: 0;position: absolute;width: 1px;}#sk-container-id-2 div.sk-estimator {font-family: monospace;background-color: #f0f8ff;border: 1px dotted black;border-radius: 0.25em;box-sizing: border-box;margin-bottom: 0.5em;}#sk-container-id-2 div.sk-estimator:hover {background-color: #d4ebff;}#sk-container-id-2 div.sk-parallel-item::after {content: \"\";width: 100%;border-bottom: 1px solid gray;flex-grow: 1;}#sk-container-id-2 div.sk-label:hover label.sk-toggleable__label {background-color: #d4ebff;}#sk-container-id-2 div.sk-serial::before {content: \"\";position: absolute;border-left: 1px solid gray;box-sizing: border-box;top: 0;bottom: 0;left: 50%;z-index: 0;}#sk-container-id-2 div.sk-serial {display: flex;flex-direction: column;align-items: center;background-color: white;padding-right: 0.2em;padding-left: 0.2em;position: relative;}#sk-container-id-2 div.sk-item {position: relative;z-index: 1;}#sk-container-id-2 div.sk-parallel {display: flex;align-items: stretch;justify-content: center;background-color: white;position: relative;}#sk-container-id-2 div.sk-item::before, #sk-container-id-2 div.sk-parallel-item::before {content: \"\";position: absolute;border-left: 1px solid gray;box-sizing: border-box;top: 0;bottom: 0;left: 50%;z-index: -1;}#sk-container-id-2 div.sk-parallel-item {display: flex;flex-direction: column;z-index: 1;position: relative;background-color: white;}#sk-container-id-2 div.sk-parallel-item:first-child::after {align-self: flex-end;width: 50%;}#sk-container-id-2 div.sk-parallel-item:last-child::after {align-self: flex-start;width: 50%;}#sk-container-id-2 div.sk-parallel-item:only-child::after {width: 0;}#sk-container-id-2 div.sk-dashed-wrapped {border: 1px dashed gray;margin: 0 0.4em 0.5em 0.4em;box-sizing: border-box;padding-bottom: 0.4em;background-color: white;}#sk-container-id-2 div.sk-label label {font-family: monospace;font-weight: bold;display: inline-block;line-height: 1.2em;}#sk-container-id-2 div.sk-label-container {text-align: center;}#sk-container-id-2 div.sk-container {/* jupyter's `normalize.less` sets `[hidden] { display: none; }` but bootstrap.min.css set `[hidden] { display: none !important; }` so we also need the `!important` here to be able to override the default hidden behavior on the sphinx rendered scikit-learn.org. See: https://github.com/scikit-learn/scikit-learn/issues/21755 */display: inline-block !important;position: relative;}#sk-container-id-2 div.sk-text-repr-fallback {display: none;}</style><div id=\"sk-container-id-2\" class=\"sk-top-container\"><div class=\"sk-text-repr-fallback\"><pre>GridSearchCV(cv=5,\n",
       "             estimator=Pipeline(steps=[(&#x27;preprocessing&#x27;,\n",
       "                                        ColumnTransformer(transformers=[(&#x27;num&#x27;,\n",
       "                                                                         Pipeline(steps=[(&#x27;imputer&#x27;,\n",
       "                                                                                          SimpleImputer()),\n",
       "                                                                                         (&#x27;scaler&#x27;,\n",
       "                                                                                          StandardScaler())]),\n",
       "                                                                         [&#x27;Loan_Amount_Term&#x27;,\n",
       "                                                                          &#x27;Credit_History&#x27;,\n",
       "                                                                          &#x27;TotalIncome&#x27;,\n",
       "                                                                          &#x27;LoanAmountLog&#x27;,\n",
       "                                                                          &#x27;DebtRatio&#x27;]),\n",
       "                                                                        (&#x27;cat&#x27;,\n",
       "                                                                         Pipeline(steps=[(&#x27;imputer&#x27;,\n",
       "                                                                                          SimpleImputer(strategy=&#x27;most_frequent&#x27;)),\n",
       "                                                                                         (&#x27;encoder&#x27;,\n",
       "                                                                                          OneHotEnc...e&#x27;))]),\n",
       "                                                                         [&#x27;Gender&#x27;,\n",
       "                                                                          &#x27;Married&#x27;,\n",
       "                                                                          &#x27;Dependents&#x27;,\n",
       "                                                                          &#x27;Education&#x27;,\n",
       "                                                                          &#x27;Self_Employed&#x27;,\n",
       "                                                                          &#x27;Property_Area&#x27;])])),\n",
       "                                       (&#x27;classifier&#x27;,\n",
       "                                        RandomForestClassifier(random_state=43))]),\n",
       "             n_jobs=-1,\n",
       "             param_grid={&#x27;classifier__max_depth&#x27;: [4, 6, 8],\n",
       "                         &#x27;classifier__min_samples_leaf&#x27;: [1, 2, 4],\n",
       "                         &#x27;classifier__min_samples_split&#x27;: [2, 5, 10],\n",
       "                         &#x27;classifier__n_estimators&#x27;: [50, 100, 150]},\n",
       "             scoring=&#x27;accuracy&#x27;, verbose=1)</pre><b>In a Jupyter environment, please rerun this cell to show the HTML representation or trust the notebook. <br />On GitHub, the HTML representation is unable to render, please try loading this page with nbviewer.org.</b></div><div class=\"sk-container\" hidden><div class=\"sk-item sk-dashed-wrapped\"><div class=\"sk-label-container\"><div class=\"sk-label sk-toggleable\"><input class=\"sk-toggleable__control sk-hidden--visually\" id=\"sk-estimator-id-11\" type=\"checkbox\" ><label for=\"sk-estimator-id-11\" class=\"sk-toggleable__label sk-toggleable__label-arrow\">GridSearchCV</label><div class=\"sk-toggleable__content\"><pre>GridSearchCV(cv=5,\n",
       "             estimator=Pipeline(steps=[(&#x27;preprocessing&#x27;,\n",
       "                                        ColumnTransformer(transformers=[(&#x27;num&#x27;,\n",
       "                                                                         Pipeline(steps=[(&#x27;imputer&#x27;,\n",
       "                                                                                          SimpleImputer()),\n",
       "                                                                                         (&#x27;scaler&#x27;,\n",
       "                                                                                          StandardScaler())]),\n",
       "                                                                         [&#x27;Loan_Amount_Term&#x27;,\n",
       "                                                                          &#x27;Credit_History&#x27;,\n",
       "                                                                          &#x27;TotalIncome&#x27;,\n",
       "                                                                          &#x27;LoanAmountLog&#x27;,\n",
       "                                                                          &#x27;DebtRatio&#x27;]),\n",
       "                                                                        (&#x27;cat&#x27;,\n",
       "                                                                         Pipeline(steps=[(&#x27;imputer&#x27;,\n",
       "                                                                                          SimpleImputer(strategy=&#x27;most_frequent&#x27;)),\n",
       "                                                                                         (&#x27;encoder&#x27;,\n",
       "                                                                                          OneHotEnc...e&#x27;))]),\n",
       "                                                                         [&#x27;Gender&#x27;,\n",
       "                                                                          &#x27;Married&#x27;,\n",
       "                                                                          &#x27;Dependents&#x27;,\n",
       "                                                                          &#x27;Education&#x27;,\n",
       "                                                                          &#x27;Self_Employed&#x27;,\n",
       "                                                                          &#x27;Property_Area&#x27;])])),\n",
       "                                       (&#x27;classifier&#x27;,\n",
       "                                        RandomForestClassifier(random_state=43))]),\n",
       "             n_jobs=-1,\n",
       "             param_grid={&#x27;classifier__max_depth&#x27;: [4, 6, 8],\n",
       "                         &#x27;classifier__min_samples_leaf&#x27;: [1, 2, 4],\n",
       "                         &#x27;classifier__min_samples_split&#x27;: [2, 5, 10],\n",
       "                         &#x27;classifier__n_estimators&#x27;: [50, 100, 150]},\n",
       "             scoring=&#x27;accuracy&#x27;, verbose=1)</pre></div></div></div><div class=\"sk-parallel\"><div class=\"sk-parallel-item\"><div class=\"sk-item\"><div class=\"sk-label-container\"><div class=\"sk-label sk-toggleable\"><input class=\"sk-toggleable__control sk-hidden--visually\" id=\"sk-estimator-id-12\" type=\"checkbox\" ><label for=\"sk-estimator-id-12\" class=\"sk-toggleable__label sk-toggleable__label-arrow\">estimator: Pipeline</label><div class=\"sk-toggleable__content\"><pre>Pipeline(steps=[(&#x27;preprocessing&#x27;,\n",
       "                 ColumnTransformer(transformers=[(&#x27;num&#x27;,\n",
       "                                                  Pipeline(steps=[(&#x27;imputer&#x27;,\n",
       "                                                                   SimpleImputer()),\n",
       "                                                                  (&#x27;scaler&#x27;,\n",
       "                                                                   StandardScaler())]),\n",
       "                                                  [&#x27;Loan_Amount_Term&#x27;,\n",
       "                                                   &#x27;Credit_History&#x27;,\n",
       "                                                   &#x27;TotalIncome&#x27;,\n",
       "                                                   &#x27;LoanAmountLog&#x27;,\n",
       "                                                   &#x27;DebtRatio&#x27;]),\n",
       "                                                 (&#x27;cat&#x27;,\n",
       "                                                  Pipeline(steps=[(&#x27;imputer&#x27;,\n",
       "                                                                   SimpleImputer(strategy=&#x27;most_frequent&#x27;)),\n",
       "                                                                  (&#x27;encoder&#x27;,\n",
       "                                                                   OneHotEncoder(handle_unknown=&#x27;ignore&#x27;))]),\n",
       "                                                  [&#x27;Gender&#x27;, &#x27;Married&#x27;,\n",
       "                                                   &#x27;Dependents&#x27;, &#x27;Education&#x27;,\n",
       "                                                   &#x27;Self_Employed&#x27;,\n",
       "                                                   &#x27;Property_Area&#x27;])])),\n",
       "                (&#x27;classifier&#x27;, RandomForestClassifier(random_state=43))])</pre></div></div></div><div class=\"sk-serial\"><div class=\"sk-item\"><div class=\"sk-serial\"><div class=\"sk-item sk-dashed-wrapped\"><div class=\"sk-label-container\"><div class=\"sk-label sk-toggleable\"><input class=\"sk-toggleable__control sk-hidden--visually\" id=\"sk-estimator-id-13\" type=\"checkbox\" ><label for=\"sk-estimator-id-13\" class=\"sk-toggleable__label sk-toggleable__label-arrow\">preprocessing: ColumnTransformer</label><div class=\"sk-toggleable__content\"><pre>ColumnTransformer(transformers=[(&#x27;num&#x27;,\n",
       "                                 Pipeline(steps=[(&#x27;imputer&#x27;, SimpleImputer()),\n",
       "                                                 (&#x27;scaler&#x27;, StandardScaler())]),\n",
       "                                 [&#x27;Loan_Amount_Term&#x27;, &#x27;Credit_History&#x27;,\n",
       "                                  &#x27;TotalIncome&#x27;, &#x27;LoanAmountLog&#x27;,\n",
       "                                  &#x27;DebtRatio&#x27;]),\n",
       "                                (&#x27;cat&#x27;,\n",
       "                                 Pipeline(steps=[(&#x27;imputer&#x27;,\n",
       "                                                  SimpleImputer(strategy=&#x27;most_frequent&#x27;)),\n",
       "                                                 (&#x27;encoder&#x27;,\n",
       "                                                  OneHotEncoder(handle_unknown=&#x27;ignore&#x27;))]),\n",
       "                                 [&#x27;Gender&#x27;, &#x27;Married&#x27;, &#x27;Dependents&#x27;,\n",
       "                                  &#x27;Education&#x27;, &#x27;Self_Employed&#x27;,\n",
       "                                  &#x27;Property_Area&#x27;])])</pre></div></div></div><div class=\"sk-parallel\"><div class=\"sk-parallel-item\"><div class=\"sk-item\"><div class=\"sk-label-container\"><div class=\"sk-label sk-toggleable\"><input class=\"sk-toggleable__control sk-hidden--visually\" id=\"sk-estimator-id-14\" type=\"checkbox\" ><label for=\"sk-estimator-id-14\" class=\"sk-toggleable__label sk-toggleable__label-arrow\">num</label><div class=\"sk-toggleable__content\"><pre>[&#x27;Loan_Amount_Term&#x27;, &#x27;Credit_History&#x27;, &#x27;TotalIncome&#x27;, &#x27;LoanAmountLog&#x27;, &#x27;DebtRatio&#x27;]</pre></div></div></div><div class=\"sk-serial\"><div class=\"sk-item\"><div class=\"sk-serial\"><div class=\"sk-item\"><div class=\"sk-estimator sk-toggleable\"><input class=\"sk-toggleable__control sk-hidden--visually\" id=\"sk-estimator-id-15\" type=\"checkbox\" ><label for=\"sk-estimator-id-15\" class=\"sk-toggleable__label sk-toggleable__label-arrow\">SimpleImputer</label><div class=\"sk-toggleable__content\"><pre>SimpleImputer()</pre></div></div></div><div class=\"sk-item\"><div class=\"sk-estimator sk-toggleable\"><input class=\"sk-toggleable__control sk-hidden--visually\" id=\"sk-estimator-id-16\" type=\"checkbox\" ><label for=\"sk-estimator-id-16\" class=\"sk-toggleable__label sk-toggleable__label-arrow\">StandardScaler</label><div class=\"sk-toggleable__content\"><pre>StandardScaler()</pre></div></div></div></div></div></div></div></div><div class=\"sk-parallel-item\"><div class=\"sk-item\"><div class=\"sk-label-container\"><div class=\"sk-label sk-toggleable\"><input class=\"sk-toggleable__control sk-hidden--visually\" id=\"sk-estimator-id-17\" type=\"checkbox\" ><label for=\"sk-estimator-id-17\" class=\"sk-toggleable__label sk-toggleable__label-arrow\">cat</label><div class=\"sk-toggleable__content\"><pre>[&#x27;Gender&#x27;, &#x27;Married&#x27;, &#x27;Dependents&#x27;, &#x27;Education&#x27;, &#x27;Self_Employed&#x27;, &#x27;Property_Area&#x27;]</pre></div></div></div><div class=\"sk-serial\"><div class=\"sk-item\"><div class=\"sk-serial\"><div class=\"sk-item\"><div class=\"sk-estimator sk-toggleable\"><input class=\"sk-toggleable__control sk-hidden--visually\" id=\"sk-estimator-id-18\" type=\"checkbox\" ><label for=\"sk-estimator-id-18\" class=\"sk-toggleable__label sk-toggleable__label-arrow\">SimpleImputer</label><div class=\"sk-toggleable__content\"><pre>SimpleImputer(strategy=&#x27;most_frequent&#x27;)</pre></div></div></div><div class=\"sk-item\"><div class=\"sk-estimator sk-toggleable\"><input class=\"sk-toggleable__control sk-hidden--visually\" id=\"sk-estimator-id-19\" type=\"checkbox\" ><label for=\"sk-estimator-id-19\" class=\"sk-toggleable__label sk-toggleable__label-arrow\">OneHotEncoder</label><div class=\"sk-toggleable__content\"><pre>OneHotEncoder(handle_unknown=&#x27;ignore&#x27;)</pre></div></div></div></div></div></div></div></div></div></div><div class=\"sk-item\"><div class=\"sk-estimator sk-toggleable\"><input class=\"sk-toggleable__control sk-hidden--visually\" id=\"sk-estimator-id-20\" type=\"checkbox\" ><label for=\"sk-estimator-id-20\" class=\"sk-toggleable__label sk-toggleable__label-arrow\">RandomForestClassifier</label><div class=\"sk-toggleable__content\"><pre>RandomForestClassifier(random_state=43)</pre></div></div></div></div></div></div></div></div></div></div></div></div>"
      ],
      "text/plain": [
       "GridSearchCV(cv=5,\n",
       "             estimator=Pipeline(steps=[('preprocessing',\n",
       "                                        ColumnTransformer(transformers=[('num',\n",
       "                                                                         Pipeline(steps=[('imputer',\n",
       "                                                                                          SimpleImputer()),\n",
       "                                                                                         ('scaler',\n",
       "                                                                                          StandardScaler())]),\n",
       "                                                                         ['Loan_Amount_Term',\n",
       "                                                                          'Credit_History',\n",
       "                                                                          'TotalIncome',\n",
       "                                                                          'LoanAmountLog',\n",
       "                                                                          'DebtRatio']),\n",
       "                                                                        ('cat',\n",
       "                                                                         Pipeline(steps=[('imputer',\n",
       "                                                                                          SimpleImputer(strategy='most_frequent')),\n",
       "                                                                                         ('encoder',\n",
       "                                                                                          OneHotEnc...e'))]),\n",
       "                                                                         ['Gender',\n",
       "                                                                          'Married',\n",
       "                                                                          'Dependents',\n",
       "                                                                          'Education',\n",
       "                                                                          'Self_Employed',\n",
       "                                                                          'Property_Area'])])),\n",
       "                                       ('classifier',\n",
       "                                        RandomForestClassifier(random_state=43))]),\n",
       "             n_jobs=-1,\n",
       "             param_grid={'classifier__max_depth': [4, 6, 8],\n",
       "                         'classifier__min_samples_leaf': [1, 2, 4],\n",
       "                         'classifier__min_samples_split': [2, 5, 10],\n",
       "                         'classifier__n_estimators': [50, 100, 150]},\n",
       "             scoring='accuracy', verbose=1)"
      ]
     },
     "execution_count": 17,
     "metadata": {},
     "output_type": "execute_result"
    }
   ],
   "source": [
    "grid_search.fit(X_train, y_train)"
   ]
  },
  {
   "cell_type": "code",
   "execution_count": 18,
   "id": "4a4727c9",
   "metadata": {
    "execution": {
     "iopub.execute_input": "2025-05-10T20:52:23.007349Z",
     "iopub.status.busy": "2025-05-10T20:52:23.006443Z",
     "iopub.status.idle": "2025-05-10T20:52:23.023927Z",
     "shell.execute_reply": "2025-05-10T20:52:23.022792Z"
    },
    "papermill": {
     "duration": 0.028536,
     "end_time": "2025-05-10T20:52:23.025912",
     "exception": false,
     "start_time": "2025-05-10T20:52:22.997376",
     "status": "completed"
    },
    "tags": []
   },
   "outputs": [
    {
     "name": "stdout",
     "output_type": "stream",
     "text": [
      " Best Hyperparameter: {'classifier__max_depth': 8, 'classifier__min_samples_leaf': 2, 'classifier__min_samples_split': 2, 'classifier__n_estimators': 50}\n",
      " Test Accuracy: 0.7886178861788617\n",
      "\n",
      "Classification Report:\n",
      "               precision    recall  f1-score   support\n",
      "\n",
      "           0       0.87      0.47      0.61        43\n",
      "           1       0.77      0.96      0.86        80\n",
      "\n",
      "    accuracy                           0.79       123\n",
      "   macro avg       0.82      0.71      0.73       123\n",
      "weighted avg       0.80      0.79      0.77       123\n",
      "\n"
     ]
    }
   ],
   "source": [
    "print(\" Best Hyperparameter:\", grid_search.best_params_)\n",
    "print(\" Test Accuracy:\", accuracy_score(y_test, y_pred))\n",
    "print(\"\\nClassification Report:\\n\", classification_report(y_test, y_pred))"
   ]
  }
 ],
 "metadata": {
  "kaggle": {
   "accelerator": "none",
   "dataSources": [
    {
     "datasetId": 137197,
     "sourceId": 325031,
     "sourceType": "datasetVersion"
    }
   ],
   "dockerImageVersionId": 31012,
   "isGpuEnabled": false,
   "isInternetEnabled": false,
   "language": "python",
   "sourceType": "notebook"
  },
  "kernelspec": {
   "display_name": "Python 3",
   "language": "python",
   "name": "python3"
  },
  "language_info": {
   "codemirror_mode": {
    "name": "ipython",
    "version": 3
   },
   "file_extension": ".py",
   "mimetype": "text/x-python",
   "name": "python",
   "nbconvert_exporter": "python",
   "pygments_lexer": "ipython3",
   "version": "3.11.11"
  },
  "papermill": {
   "default_parameters": {},
   "duration": 80.465691,
   "end_time": "2025-05-10T20:52:25.651903",
   "environment_variables": {},
   "exception": null,
   "input_path": "__notebook__.ipynb",
   "output_path": "__notebook__.ipynb",
   "parameters": {},
   "start_time": "2025-05-10T20:51:05.186212",
   "version": "2.6.0"
  }
 },
 "nbformat": 4,
 "nbformat_minor": 5
}
